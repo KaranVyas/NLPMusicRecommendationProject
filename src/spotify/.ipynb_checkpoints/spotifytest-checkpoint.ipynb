{
 "cells": [
  {
   "cell_type": "code",
   "execution_count": 2,
   "id": "5972cdda-14ca-4e9f-bfbb-f605a1a7ac92",
   "metadata": {},
   "outputs": [
    {
     "name": "stdout",
     "output_type": "stream",
     "text": [
      "Collecting spotipy\n",
      "  Downloading spotipy-2.23.0-py3-none-any.whl (29 kB)\n",
      "Collecting redis>=3.5.3\n",
      "  Downloading redis-5.0.1-py3-none-any.whl (250 kB)\n",
      "\u001b[2K     \u001b[90m━━━━━━━━━━━━━━━━━━━━━━━━━━━━━━━━━━━━━━━\u001b[0m \u001b[32m250.3/250.3 kB\u001b[0m \u001b[31m4.2 MB/s\u001b[0m eta \u001b[36m0:00:00\u001b[0ma \u001b[36m0:00:01\u001b[0m\n",
      "\u001b[?25hRequirement already satisfied: requests>=2.25.0 in /Users/sanathbhimsen/miniforge3/lib/python3.10/site-packages (from spotipy) (2.28.2)\n",
      "Requirement already satisfied: six>=1.15.0 in /Users/sanathbhimsen/miniforge3/lib/python3.10/site-packages (from spotipy) (1.16.0)\n",
      "Requirement already satisfied: urllib3>=1.26.0 in /Users/sanathbhimsen/miniforge3/lib/python3.10/site-packages (from spotipy) (1.26.14)\n",
      "Requirement already satisfied: async-timeout>=4.0.2 in /Users/sanathbhimsen/miniforge3/lib/python3.10/site-packages (from redis>=3.5.3->spotipy) (4.0.3)\n",
      "Requirement already satisfied: charset-normalizer<4,>=2 in /Users/sanathbhimsen/miniforge3/lib/python3.10/site-packages (from requests>=2.25.0->spotipy) (2.1.1)\n",
      "Requirement already satisfied: certifi>=2017.4.17 in /Users/sanathbhimsen/miniforge3/lib/python3.10/site-packages (from requests>=2.25.0->spotipy) (2023.7.22)\n",
      "Requirement already satisfied: idna<4,>=2.5 in /Users/sanathbhimsen/miniforge3/lib/python3.10/site-packages (from requests>=2.25.0->spotipy) (3.4)\n",
      "Installing collected packages: redis, spotipy\n",
      "Successfully installed redis-5.0.1 spotipy-2.23.0\n"
     ]
    }
   ],
   "source": [
    "!pip install spotipy"
   ]
  },
  {
   "cell_type": "code",
   "execution_count": 20,
   "id": "94752fcd-2fa2-4564-a346-c713a64cdad1",
   "metadata": {},
   "outputs": [
    {
     "ename": "ModuleNotFoundError",
     "evalue": "No module named 'spotify.credentials'",
     "output_type": "error",
     "traceback": [
      "\u001b[0;31m---------------------------------------------------------------------------\u001b[0m",
      "\u001b[0;31mModuleNotFoundError\u001b[0m                       Traceback (most recent call last)",
      "Cell \u001b[0;32mIn[20], line 4\u001b[0m\n\u001b[1;32m      2\u001b[0m \u001b[38;5;28;01mfrom\u001b[39;00m \u001b[38;5;21;01mspotipy\u001b[39;00m\u001b[38;5;21;01m.\u001b[39;00m\u001b[38;5;21;01moauth2\u001b[39;00m \u001b[38;5;28;01mimport\u001b[39;00m SpotifyClientCredentials\n\u001b[1;32m      3\u001b[0m \u001b[38;5;28;01mfrom\u001b[39;00m \u001b[38;5;21;01mspotipy\u001b[39;00m\u001b[38;5;21;01m.\u001b[39;00m\u001b[38;5;21;01moauth2\u001b[39;00m \u001b[38;5;28;01mimport\u001b[39;00m SpotifyOAuth\n\u001b[0;32m----> 4\u001b[0m \u001b[38;5;28;01mfrom\u001b[39;00m \u001b[38;5;21;01mspotify\u001b[39;00m\u001b[38;5;21;01m.\u001b[39;00m\u001b[38;5;21;01mcredentials\u001b[39;00m \u001b[38;5;28;01mimport\u001b[39;00m APIKeys\n\u001b[1;32m      6\u001b[0m client_id \u001b[38;5;241m=\u001b[39m APIKeys\u001b[38;5;241m.\u001b[39mget_client_id()\n\u001b[1;32m      7\u001b[0m client_secret \u001b[38;5;241m=\u001b[39m APIKeys\u001b[38;5;241m.\u001b[39mget_client_secret()\n",
      "\u001b[0;31mModuleNotFoundError\u001b[0m: No module named 'spotify.credentials'"
     ]
    }
   ],
   "source": [
    "import spotipy\n",
    "from spotipy.oauth2 import SpotifyClientCredentials\n",
    "from spotipy.oauth2 import SpotifyOAuth\n",
    "from spotify.credentials import APIKeys\n",
    "\n",
    "client_id = APIKeys.get_client_id()\n",
    "client_secret = APIKeys.get_client_secret()\n",
    "\n",
    "client_credentials_manager = SpotifyClientCredentials(client_id=client_id, client_secret=client_secret)\n",
    "sp = spotipy.Spotify(client_credentials_manager=client_credentials_manager)"
   ]
  },
  {
   "cell_type": "code",
   "execution_count": 5,
   "id": "e16c53ff-1e45-4896-b9be-8160ba175e69",
   "metadata": {},
   "outputs": [
    {
     "name": "stdout",
     "output_type": "stream",
     "text": [
      "Shape of You - Ed Sheeran\n"
     ]
    }
   ],
   "source": [
    "track_name = \"Shape of You\"\n",
    "results = sp.search(q=track_name, limit=1, type='track')\n",
    "track = results['tracks']['items'][0]\n",
    "print(track['name'], \"-\", track['artists'][0]['name'])\n"
   ]
  },
  {
   "cell_type": "code",
   "execution_count": 18,
   "id": "665af4fd-a781-41d4-a1d1-cfc7eceda1e7",
   "metadata": {},
   "outputs": [
    {
     "name": "stdout",
     "output_type": "stream",
     "text": [
      "1. Heat Waves by Glass Animals\n",
      "2. Sulthana (From \"Kgf Chapter 2\") by Santhosh Venky, Mohan Krishna, Sachin Basrur, Ravi Basrur, Puneeth Rudranag, Manish Dinakar, Varsha Acharya\n",
      "3. Blinding Lights by The Weeknd\n",
      "4. The Nights by Avicii\n",
      "5. Hotel California - 2013 Remaster by Eagles\n",
      "6. Memories by Maroon 5\n",
      "7. As It Was by Harry Styles\n",
      "8. Love Me Again by John Newman\n",
      "9. Starboy by The Weeknd, Daft Punk\n",
      "10. Hall of Fame (feat. will.i.am) by The Script, will.i.am\n",
      "11. Billie Jean by Michael Jackson\n",
      "12. Levitating (feat. DaBaby) by Dua Lipa, DaBaby\n",
      "13. Can't Hold Us (feat. Ray Dalton) by Macklemore & Ryan Lewis, Macklemore, Ryan Lewis, Ray Dalton\n",
      "14. I'm Good (Blue) by David Guetta, Bebe Rexha\n",
      "15. Pasoori by Shae Gill, Ali Sethi\n"
     ]
    }
   ],
   "source": [
    "redirect_uri = 'http://localhost:8889/callback'\n",
    "playlist_id = '6hkts6RhMG0qAXCFqXbvbg'  # Your playlist ID\n",
    "# Set up authorization\n",
    "scope = \"playlist-read-private\"\n",
    "sp = spotipy.Spotify(auth_manager=SpotifyOAuth(client_id=client_id,\n",
    "                                               client_secret=client_secret,\n",
    "                                               redirect_uri=redirect_uri,\n",
    "                                               scope=scope))\n",
    "\n",
    "# Fetch tracks from the playlist\n",
    "results = sp.playlist_tracks(playlist_id)\n",
    "tracks = results['items']\n",
    "\n",
    "# If the playlist is large, paginate through the results\n",
    "while results['next']:\n",
    "    results = sp.next(results)\n",
    "    tracks.extend(results['items'])\n",
    "\n",
    "# Print track names and artists\n",
    "for idx, item in enumerate(tracks):\n",
    "    track = item['track']\n",
    "    print(f\"{idx+1}. {track['name']} by {', '.join(artist['name'] for artist in track['artists'])}\")\n"
   ]
  },
  {
   "cell_type": "code",
   "execution_count": 9,
   "id": "78726281-39b9-4e3e-92ca-82dddb4526e1",
   "metadata": {},
   "outputs": [
    {
     "data": {
      "text/plain": [
       "{'snapshot_id': 'NSxhOWY4NWRjNWRkNjAzZTg1YTU1ZmYyZDkxODNiMzEwYTAwMzJmODlk'}"
      ]
     },
     "execution_count": 9,
     "metadata": {},
     "output_type": "execute_result"
    }
   ],
   "source": [
    "# Your playlist ID and the track ID for \"Blinding Lights\"\n",
    "playlist_id = '54FWKfSRIHnwkq0trEyT5h' #PLAYLIST FOR OUR PROJECT\n",
    "track_id = '0VjIjW4GlUZAMYd2vXMi3b'  # Track ID for \"Blinding Lights\"\n",
    "\n",
    "# Scope for modifying playlist\n",
    "scope = 'playlist-modify-public'  # Use 'playlist-modify-private' if your playlist is private\n",
    "\n",
    "# Authenticate\n",
    "sp = spotipy.Spotify(auth_manager=SpotifyOAuth(client_id=client_id,\n",
    "                                               client_secret=client_secret,\n",
    "                                               redirect_uri=redirect_uri,\n",
    "                                               scope=scope))\n",
    "\n",
    "# Add the track to the playlist\n",
    "sp.playlist_add_items(playlist_id, [track_id])"
   ]
  },
  {
   "cell_type": "code",
   "execution_count": null,
   "id": "a71f9468-cba0-43e8-9002-24efd183aa83",
   "metadata": {},
   "outputs": [],
   "source": []
  }
 ],
 "metadata": {
  "kernelspec": {
   "display_name": "Python 3 (ipykernel)",
   "language": "python",
   "name": "python3"
  },
  "language_info": {
   "codemirror_mode": {
    "name": "ipython",
    "version": 3
   },
   "file_extension": ".py",
   "mimetype": "text/x-python",
   "name": "python",
   "nbconvert_exporter": "python",
   "pygments_lexer": "ipython3",
   "version": "3.10.9"
  }
 },
 "nbformat": 4,
 "nbformat_minor": 5
}
